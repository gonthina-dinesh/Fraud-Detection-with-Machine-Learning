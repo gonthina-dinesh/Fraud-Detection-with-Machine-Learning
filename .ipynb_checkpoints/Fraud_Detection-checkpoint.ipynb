{
 "cells": [
  {
   "cell_type": "markdown",
   "id": "bcaa01fe",
   "metadata": {},
   "source": [
    "# Fraud Detection with Machine Learning\n",
    "This notebook demonstrates how to build a fraud detection system using a Random Forest Classifier. It includes data loading, feature engineering, model training, and evaluation steps."
   ]
  },
  {
   "cell_type": "markdown",
   "id": "1d0fa193",
   "metadata": {},
   "source": [
    "## 1. Import Required Libraries"
   ]
  },
  {
   "cell_type": "code",
   "execution_count": null,
   "id": "32caa5c4",
   "metadata": {},
   "outputs": [],
   "source": [
    "import pandas as pd\n",
    "import os\n",
    "import numpy as np\n",
    "from collections import deque\n",
    "from sklearn.model_selection import train_test_split\n",
    "from sklearn.ensemble import RandomForestClassifier\n",
    "from sklearn.metrics import classification_report, confusion_matrix, accuracy_score"
   ]
  },
  {
   "cell_type": "markdown",
   "id": "67d90543",
   "metadata": {},
   "source": [
    "## 2. Load and Combine Dataset"
   ]
  },
  {
   "cell_type": "code",
   "execution_count": null,
   "id": "2d8ee9ca",
   "metadata": {},
   "outputs": [],
   "source": [
    "# Set the path to your dataset folder\n",
    "folder_path = \"dataset\"  \n",
    "\n",
    "# Load all .pkl files and combine them\n",
    "all_data = []\n",
    "for filename in sorted(os.listdir(folder_path)):\n",
    "    if filename.endswith(\".pkl\"):\n",
    "        df_day = pd.read_pickle(os.path.join(folder_path, filename))\n",
    "        all_data.append(df_day)\n",
    "\n",
    "# Combine all daily DataFrames into one\n",
    "df = pd.concat(all_data).reset_index(drop=True)\n",
    "print(df.shape)\n",
    "df.head()"
   ]
  },
  {
   "cell_type": "markdown",
   "id": "75c796c3",
   "metadata": {},
   "source": [
    "## 3. Feature Engineering"
   ]
  },
  {
   "cell_type": "code",
   "execution_count": null,
   "id": "9c1c9c89",
   "metadata": {},
   "outputs": [],
   "source": [
    "# Convert TX_DATETIME to datetime format and create time-based features\n",
    "df['TX_DATETIME'] = pd.to_datetime(df['TX_DATETIME'])\n",
    "df['TX_DAY'] = df['TX_DATETIME'].dt.day\n",
    "df['TX_HOUR'] = df['TX_DATETIME'].dt.hour\n",
    "df['TX_WEEKDAY'] = df['TX_DATETIME'].dt.weekday\n",
    "\n",
    "# Sort transactions by customer and compute rolling average transaction amount\n",
    "df = df.sort_values(['CUSTOMER_ID', 'TX_DATETIME'])\n",
    "df['CUSTOMER_AVG_AMOUNT_5'] = (\n",
    "    df.groupby('CUSTOMER_ID')['TX_AMOUNT']\n",
    "    .rolling(window=5, min_periods=1)\n",
    "    .mean()\n",
    "    .reset_index(0, drop=True)\n",
    ")\n",
    "\n",
    "# Add UNIX timestamp\n",
    "df['TX_UNIX'] = df['TX_DATETIME'].astype(np.int64) // 10**9"
   ]
  },
  {
   "cell_type": "markdown",
   "id": "7d6d8c56",
   "metadata": {},
   "source": [
    "### Customer Feature: Transactions in Last 24 Hours"
   ]
  },
  {
   "cell_type": "code",
   "execution_count": null,
   "id": "73d5d480",
   "metadata": {},
   "outputs": [],
   "source": [
    "customer_tx_count_1d = []\n",
    "time_window = 86400  # 1 day in seconds\n",
    "\n",
    "for _, group in df.groupby('CUSTOMER_ID'):\n",
    "    q = deque()\n",
    "    counts = []\n",
    "    for t in group['TX_UNIX']:\n",
    "        while q and t - q[0] > time_window:\n",
    "            q.popleft()\n",
    "        q.append(t)\n",
    "        counts.append(len(q))\n",
    "    customer_tx_count_1d.extend(counts)\n",
    "\n",
    "df['CUSTOMER_TX_COUNT_1D'] = customer_tx_count_1d"
   ]
  },
  {
   "cell_type": "markdown",
   "id": "1a662aac",
   "metadata": {},
   "source": [
    "### Terminal Feature: Fraud Count in Last 28 Days"
   ]
  },
  {
   "cell_type": "code",
   "execution_count": null,
   "id": "781ba359",
   "metadata": {},
   "outputs": [],
   "source": [
    "df = df.sort_values(['TERMINAL_ID', 'TX_DATETIME'])\n",
    "terminal_fraud_count_28d = []\n",
    "time_window = 28 * 86400  # 28 days in seconds\n",
    "\n",
    "for _, group in df.groupby('TERMINAL_ID'):\n",
    "    q = deque()\n",
    "    frauds = []\n",
    "    for t, is_fraud in zip(group['TX_UNIX'], group['TX_FRAUD']):\n",
    "        while q and t - q[0][0] > time_window:\n",
    "            q.popleft()\n",
    "        q.append((t, is_fraud))\n",
    "        fraud_sum = sum(f[1] for f in q)\n",
    "        frauds.append(fraud_sum)\n",
    "    terminal_fraud_count_28d.extend(frauds)\n",
    "\n",
    "df['TERMINAL_FRAUD_COUNT_28D'] = terminal_fraud_count_28d"
   ]
  },
  {
   "cell_type": "markdown",
   "id": "c74313ff",
   "metadata": {},
   "source": [
    "## 4. Model Training"
   ]
  },
  {
   "cell_type": "code",
   "execution_count": null,
   "id": "71da52b1",
   "metadata": {},
   "outputs": [],
   "source": [
    "features = [\n",
    "    'TX_AMOUNT', 'TX_DAY', 'TX_HOUR', 'TX_WEEKDAY',\n",
    "    'CUSTOMER_AVG_AMOUNT_5', 'CUSTOMER_TX_COUNT_1D',\n",
    "    'TERMINAL_FRAUD_COUNT_28D'\n",
    "]\n",
    "\n",
    "X = df[features]\n",
    "y = df['TX_FRAUD']\n",
    "\n",
    "X_train, X_test, y_train, y_test = train_test_split(\n",
    "    X, y, test_size=0.2, random_state=42, stratify=y\n",
    ")\n",
    "\n",
    "model = RandomForestClassifier(n_estimators=100, random_state=42)\n",
    "model.fit(X_train, y_train)"
   ]
  },
  {
   "cell_type": "markdown",
   "id": "55d39f1e",
   "metadata": {},
   "source": [
    "## 5. Model Evaluation"
   ]
  },
  {
   "cell_type": "code",
   "execution_count": null,
   "id": "1044009c",
   "metadata": {},
   "outputs": [],
   "source": [
    "y_pred = model.predict(X_test)\n",
    "\n",
    "print(\"Confusion Matrix:\")\n",
    "print(confusion_matrix(y_test, y_pred))\n",
    "\n",
    "print(\"\\nClassification Report:\")\n",
    "print(classification_report(y_test, y_pred))\n",
    "\n",
    "accuracy = accuracy_score(y_test, y_pred)\n",
    "accuracy_percentage = accuracy * 100\n",
    "print(f\"Accuracy: {accuracy_percentage:.2f}%\")"
   ]
  }
 ],
 "metadata": {},
 "nbformat": 4,
 "nbformat_minor": 5
}
